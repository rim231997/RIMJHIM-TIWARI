{
 "cells": [
  {
   "cell_type": "markdown",
   "id": "f3ef260b-dca7-40b0-930c-9b5834de17d9",
   "metadata": {},
   "source": [
    "## Assignment 1"
   ]
  },
  {
   "cell_type": "markdown",
   "id": "061a7cc9-206b-4e4a-878d-c04c80f97429",
   "metadata": {},
   "source": [
    "### Task 1"
   ]
  },
  {
   "cell_type": "code",
   "execution_count": 10,
   "id": "d2b468e3-2607-4a9c-898c-30efa9eccbf3",
   "metadata": {},
   "outputs": [
    {
     "name": "stdout",
     "output_type": "stream",
     "text": [
      "104\n"
     ]
    }
   ],
   "source": [
    "a=20\n",
    "b=35\n",
    "c=49\n",
    "d=a+b+c\n",
    "print(d)"
   ]
  },
  {
   "cell_type": "code",
   "execution_count": 6,
   "id": "7426a186-d1de-444a-922a-59d71df48610",
   "metadata": {},
   "outputs": [
    {
     "name": "stdout",
     "output_type": "stream",
     "text": [
      "24\n"
     ]
    }
   ],
   "source": [
    "multiply =a*b*c\n",
    "print(multiply)"
   ]
  },
  {
   "cell_type": "code",
   "execution_count": 11,
   "id": "03a3c63d-eca5-40c9-9645-87a473b21580",
   "metadata": {},
   "outputs": [
    {
     "name": "stdout",
     "output_type": "stream",
     "text": [
      "1.4\n"
     ]
    }
   ],
   "source": [
    "division = c/b\n",
    "print(division)"
   ]
  },
  {
   "cell_type": "code",
   "execution_count": 12,
   "id": "6cfbca2d-3d35-4c0b-a76d-72eca713e5b6",
   "metadata": {},
   "outputs": [
    {
     "name": "stdout",
     "output_type": "stream",
     "text": [
      "14\n"
     ]
    }
   ],
   "source": [
    "remainder = c%b\n",
    "print(remainder)"
   ]
  },
  {
   "cell_type": "code",
   "execution_count": 13,
   "id": "879797f2-99cd-4ca7-be95-f8fcad7c151e",
   "metadata": {},
   "outputs": [
    {
     "name": "stdout",
     "output_type": "stream",
     "text": [
      "29\n"
     ]
    }
   ],
   "source": [
    "subtraction = c-a\n",
    "print(subtraction)"
   ]
  },
  {
   "cell_type": "markdown",
   "id": "9c0f1dff-c1e7-4d87-9cef-b4e53e5fb4f5",
   "metadata": {},
   "source": [
    "### Task 2"
   ]
  },
  {
   "cell_type": "code",
   "execution_count": 15,
   "id": "0cf32f2d-6af7-4012-a140-110d6bd9f382",
   "metadata": {},
   "outputs": [
    {
     "name": "stdin",
     "output_type": "stream",
     "text": [
      "Enter your first name:  Rimghim\n",
      "Enter your last name:  Tiwari\n"
     ]
    },
    {
     "name": "stdout",
     "output_type": "stream",
     "text": [
      "Hello, Rimghim Tiwari! Welcome To Python Program\n"
     ]
    }
   ],
   "source": [
    "# Program to greet user with full name\n",
    "\n",
    "# 1. Take user input\n",
    "first_name = input(\"Enter your first name: \")\n",
    "last_name = input(\"Enter your last name: \")\n",
    "\n",
    "# 2. Concatenate into full name\n",
    "full_name = first_name + \" \" + last_name\n",
    "\n",
    "# 3. Print personalized greeting\n",
    "print(\"Hello,\", full_name + \"! Welcome To Python Program\")\n"
   ]
  },
  {
   "cell_type": "code",
   "execution_count": null,
   "id": "289ebabc-c45a-4cf9-88bf-a8dd6e81be1b",
   "metadata": {},
   "outputs": [],
   "source": []
  },
  {
   "cell_type": "code",
   "execution_count": null,
   "id": "a7e740b7-6113-48a4-a452-77ed385cc5ad",
   "metadata": {},
   "outputs": [],
   "source": []
  },
  {
   "cell_type": "code",
   "execution_count": null,
   "id": "3744edb3-fefa-4fee-93da-d466f543ffe6",
   "metadata": {},
   "outputs": [],
   "source": []
  },
  {
   "cell_type": "code",
   "execution_count": null,
   "id": "39a595ab-6558-4e10-a79c-ec6240d492b4",
   "metadata": {},
   "outputs": [],
   "source": []
  }
 ],
 "metadata": {
  "kernelspec": {
   "display_name": "Python 3 (ipykernel)",
   "language": "python",
   "name": "python3"
  },
  "language_info": {
   "codemirror_mode": {
    "name": "ipython",
    "version": 3
   },
   "file_extension": ".py",
   "mimetype": "text/x-python",
   "name": "python",
   "nbconvert_exporter": "python",
   "pygments_lexer": "ipython3",
   "version": "3.12.7"
  }
 },
 "nbformat": 4,
 "nbformat_minor": 5
}
